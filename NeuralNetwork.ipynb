{
 "cells": [
  {
   "cell_type": "markdown",
   "metadata": {},
   "source": [
    "## Multilayer Perceptron para Clasificación\n",
    "\n",
    "Primero realizamos los imports necesarios para el proyecto."
   ]
  },
  {
   "cell_type": "code",
   "execution_count": 9,
   "metadata": {},
   "outputs": [],
   "source": [
    "import matplotlib.pyplot as plt\n",
    "import seaborn as sns\n",
    "from sklearn.datasets import load_digits\n",
    "from sklearn.neural_network import MLPClassifier\n",
    "from sklearn.model_selection import train_test_split\n",
    "from sklearn.metrics import confusion_matrix"
   ]
  },
  {
   "cell_type": "markdown",
   "metadata": {},
   "source": [
    "Usaremos el conjunto de datos que provee Scikit-learn para clasificación de dígitos. Cada dígito se compone de una imagen de 8x8 representando un dígito números del 0 al 9."
   ]
  },
  {
   "cell_type": "code",
   "execution_count": 2,
   "metadata": {},
   "outputs": [
    {
     "name": "stdout",
     "output_type": "stream",
     "text": [
      "x_digits Datasets size (1797, 64) \n",
      " y_digits Datasets size (1797,)\n"
     ]
    }
   ],
   "source": [
    "digits = load_digits()\n",
    "x_digits = digits.data\n",
    "y_digits = digits.target\n",
    "print(\"x_digits Datasets size\",x_digits.shape,\"\\n y_digits Datasets size\",y_digits.shape)"
   ]
  },
  {
   "cell_type": "markdown",
   "metadata": {},
   "source": [
    "Ploteamos una muestra del conjunto de datos junto a las etiquetas correspondientes de cada muestra."
   ]
  },
  {
   "cell_type": "code",
   "execution_count": 3,
   "metadata": {},
   "outputs": [
    {
     "data": {
      "image/png": "[encoded data removed]",
      "text/plain": [
       "<Figure size 720x720 with 10 Axes>"
      ]
     },
     "metadata": {},
     "output_type": "display_data"
    }
   ],
   "source": [
    "fig, axes = plt.subplots(2,5,figsize=(10,10),subplot_kw = {'xticks':[],'yticks':[]})\n",
    "for i,ax in enumerate(axes.flat):\n",
    "    ax.imshow(digits.images[i], cmap='gray', interpolation='nearest') \n",
    "    ax.text(0.5,-0.2,str(digits.target[i]),transform = ax.transAxes)"
   ]
  },
  {
   "cell_type": "markdown",
   "metadata": {},
   "source": [
    "Utilizamos `train_test_split()` de sklearn para dividir el conjunto de datos en un conjunto de entrenamiento y de prueba del 80% y del 20% del conjunto de datos original respectivamente."
   ]
  },
  {
   "cell_type": "code",
   "execution_count": 12,
   "metadata": {},
   "outputs": [
    {
     "name": "stdout",
     "output_type": "stream",
     "text": [
      "Tamaño de entrenamiento:  (1437, 64) (1437,) Tamaño de prueba:  (360, 64) (360,)\n"
     ]
    }
   ],
   "source": [
    "x_train,x_test,y_train,y_test = train_test_split(x_digits,y_digits,test_size=0.2,random_state=42,stratify= y_digits)\n",
    "print(\"Tamaño de entrenamiento: \",x_train.shape,y_train.shape,\"Tamaño de prueba: \",x_test.shape,y_test.shape )"
   ]
  },
  {
   "cell_type": "markdown",
   "metadata": {},
   "source": [
    "Seguidamente importamos el modelo de MLP listo para clasificación de sci-kit learn. Utilizamos el parámetro de `random_state` para mantener la ejecución de este notebook consistente. Y finalmente ejecutamos `fit` para ajustar los parámetros del modelo a nuestro conjunto de datos."
   ]
  },
  {
   "cell_type": "code",
   "execution_count": 5,
   "metadata": {},
   "outputs": [
    {
     "data": {
      "text/plain": [
       "MLPClassifier(random_state=42)"
      ]
     },
     "execution_count": 5,
     "metadata": {},
     "output_type": "execute_result"
    }
   ],
   "source": [
    "mlp_clf = MLPClassifier(random_state=42)\n",
    "mlp_clf.fit(x_train,y_train)"
   ]
  },
  {
   "cell_type": "markdown",
   "metadata": {},
   "source": [
    "Después, hacemos algunas predicciones y las compararemos a nuestro objetivo dentro del conjunto de datos. Como podemos observar el predictor no falla en ninguna de las muestras en este caso."
   ]
  },
  {
   "cell_type": "code",
   "execution_count": 6,
   "metadata": {},
   "outputs": [
    {
     "name": "stdout",
     "output_type": "stream",
     "text": [
      "[5 2 8 1 7 2 6 2 6 5 0 5 9 3 4 4 2 4 9 9]\n",
      "[5 2 8 1 7 2 6 2 6 5 0 5 9 3 4 4 2 4 9 9]\n"
     ]
    }
   ],
   "source": [
    "y_preds = mlp_clf.predict(x_test)\n",
    "print(y_test[:20])\n",
    "print(y_preds[:20])"
   ]
  },
  {
   "cell_type": "markdown",
   "metadata": {},
   "source": [
    "Tenemos algunas métricas directamente del clasificador, como la precisión en entrenamiento, la precisión al predecir el conjunto de prueba y la pérdida del modelo."
   ]
  },
  {
   "cell_type": "code",
   "execution_count": 13,
   "metadata": {},
   "outputs": [
    {
     "name": "stdout",
     "output_type": "stream",
     "text": [
      "Precisión en entrenamiento:  1.0\n",
      "Precisión en predicciones:  0.9722222222222222\n",
      "Pérdida :  0.0025217979804438837\n"
     ]
    }
   ],
   "source": [
    "print(\"Precisión en entrenamiento: \", mlp_clf.score(x_train,y_train))\n",
    "print(\"Precisión en predicciones: \", mlp_clf.score(x_test,y_test))\n",
    "print(\"Pérdida : \", mlp_clf.loss_)"
   ]
  },
  {
   "cell_type": "markdown",
   "metadata": {},
   "source": [
    "Finalmente, mostramos la matriz de confusión para de manera más visual explorar la precisión del modelo en cuanto a cada caracter."
   ]
  },
  {
   "cell_type": "code",
   "execution_count": 14,
   "metadata": {},
   "outputs": [
    {
     "data": {
      "image/png": "[encoded data removed]",
      "text/plain": [
       "<Figure size 648x648 with 1 Axes>"
      ]
     },
     "metadata": {
      "needs_background": "light"
     },
     "output_type": "display_data"
    }
   ],
   "source": [
    "con_max= confusion_matrix(y_test,y_preds)\n",
    "plt.figure(figsize = (9,9))\n",
    "sns.heatmap(con_max,annot= True,square= True,cbar= False,cmap='YlOrBr')\n",
    "plt.xlabel(\"Predicción\")\n",
    "plt.ylabel('Valor real')\n",
    "plt.show()"
   ]
  }
 ],
 "metadata": {
  "interpreter": {
   "hash": "c8c8126ee7d09036a9be68e2d7485108a9393f31f73f6be4eb368e830a315c41"
  },
  "kernelspec": {
   "display_name": "Python 3.9.13 ('topicos': venv)",
   "language": "python",
   "name": "python3"
  },
  "language_info": {
   "codemirror_mode": {
    "name": "ipython",
    "version": 3
   },
   "file_extension": ".py",
   "mimetype": "text/x-python",
   "name": "python",
   "nbconvert_exporter": "python",
   "pygments_lexer": "ipython3",
   "version": "3.9.13"
  },
  "orig_nbformat": 4
 },
 "nbformat": 4,
 "nbformat_minor": 2
}
