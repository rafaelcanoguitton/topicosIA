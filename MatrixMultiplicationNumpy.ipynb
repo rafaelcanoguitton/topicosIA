{
 "cells": [
  {
   "cell_type": "markdown",
   "metadata": {},
   "source": [
    "# Matrix multiplication using Numpy"
   ]
  },
  {
   "cell_type": "code",
   "execution_count": 9,
   "metadata": {},
   "outputs": [
    {
     "name": "stdout",
     "output_type": "stream",
     "text": [
      "First Matrix: \n",
      " [[1 2]\n",
      " [3 4]]\n",
      "Second Matrix: \n",
      " [[5 6]\n",
      " [7 8]]\n",
      "Result: \n",
      " [[19 22]\n",
      " [43 50]]\n"
     ]
    }
   ],
   "source": [
    "import numpy as np\n",
    "Matrix1 = np.array([[1, 2], [3, 4]])\n",
    "Matrix2 = np.array([[5, 6], [7, 8]])\n",
    "print(\"First Matrix: \\n\",Matrix1)\n",
    "print(\"Second Matrix: \\n\",Matrix2)\n",
    "print(\"Result: \\n\",np.matmul(Matrix1,Matrix2))"
   ]
  },
  {
   "cell_type": "markdown",
   "metadata": {},
   "source": [
    "# Manual approach for matrix multiplication"
   ]
  },
  {
   "cell_type": "code",
   "execution_count": 11,
   "metadata": {},
   "outputs": [
    {
     "name": "stdout",
     "output_type": "stream",
     "text": [
      "Manual Result: \n",
      " [[19, 22], [43, 50]]\n"
     ]
    }
   ],
   "source": [
    "Manual1 = [[1,2],[3,4]]\n",
    "Manual2 = [[5,6],[7,8]]\n",
    "ManualResult = []\n",
    "\n",
    "for i in range(len(Manual1)):\n",
    "    ManualResult.append([])\n",
    "    for j in range(len(Manual2[0])):\n",
    "        ManualResult[i].append(0)\n",
    "        for k in range(len(Manual2)):\n",
    "            ManualResult[i][j] += Manual1[i][k] * Manual2[k][j]\n",
    "print(\"Manual Result: \\n\",ManualResult)"
   ]
  }
 ],
 "metadata": {
  "interpreter": {
   "hash": "31f2aee4e71d21fbe5cf8b01ff0e069b9275f58929596ceb00d14d90e3e16cd6"
  },
  "kernelspec": {
   "display_name": "Python 3.8.9 64-bit",
   "language": "python",
   "name": "python3"
  },
  "language_info": {
   "codemirror_mode": {
    "name": "ipython",
    "version": 3
   },
   "file_extension": ".py",
   "mimetype": "text/x-python",
   "name": "python",
   "nbconvert_exporter": "python",
   "pygments_lexer": "ipython3",
   "version": "3.9.10"
  },
  "orig_nbformat": 4
 },
 "nbformat": 4,
 "nbformat_minor": 2
}
