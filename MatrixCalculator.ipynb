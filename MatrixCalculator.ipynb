{
 "cells": [
  {
   "cell_type": "code",
   "execution_count": 5,
   "metadata": {},
   "outputs": [
    {
     "name": "stdout",
     "output_type": "stream",
     "text": [
      "[[0. 0. 0. 0.]\n",
      " [0. 0. 0. 0.]\n",
      " [0. 0. 0. 0.]\n",
      " [0. 0. 0. 0.]]\n"
     ]
    }
   ],
   "source": [
    "import numpy as np\n",
    "#a 4 by 4 matrix\n",
    "matrix = np.zeros((4,4))\n",
    "print(matrix)"
   ]
  },
  {
   "cell_type": "code",
   "execution_count": 23,
   "metadata": {},
   "outputs": [
    {
     "name": "stdout",
     "output_type": "stream",
     "text": [
      "[[12 16 13  6 15  5  1  3  6 19]\n",
      " [18  9 16  3  8  1 11  8  9 15]\n",
      " [ 9 10 15 19  3  0  3  5 15 16]\n",
      " [ 7  4 11 15 13 12 18 19 13  4]\n",
      " [14 11 14  3  9  7  9  9  0 19]\n",
      " [16 15  9  3 12  5  3 16 17 15]\n",
      " [14  3 13  1  8 10 12 10 19 19]]\n"
     ]
    }
   ],
   "source": [
    "#7x10 matrix\n",
    "rand = np.random.randint(0,20,(7,10))\n",
    "print(rand)"
   ]
  },
  {
   "cell_type": "code",
   "execution_count": 10,
   "metadata": {},
   "outputs": [
    {
     "name": "stdout",
     "output_type": "stream",
     "text": [
      "[[1. 1. 1. 1.]\n",
      " [1. 1. 1. 1.]\n",
      " [1. 1. 1. 1.]\n",
      " [1. 1. 1. 1.]]\n"
     ]
    }
   ],
   "source": [
    "onesMatrix = np.ones((4,4))\n",
    "print(onesMatrix)"
   ]
  },
  {
   "cell_type": "code",
   "execution_count": 40,
   "metadata": {},
   "outputs": [
    {
     "name": "stdout",
     "output_type": "stream",
     "text": [
      "Primera matriz: \n",
      "[[19 17 13 13 15]\n",
      " [17  7 12 11 11]\n",
      " [ 8  6  0  4 15]\n",
      " [ 6 13 19 14 15]\n",
      " [ 7  8 10  7 18]]\n",
      "Segunda matriz: \n",
      "[[15 15  4 18  2]\n",
      " [17  5 13 19 10]\n",
      " [16 19 14  0 17]\n",
      " [11 11 15  5  1]\n",
      " [14  8 15  2 18]]\n",
      "Suma:  [[34 32 17 31 17]\n",
      " [34 12 25 30 21]\n",
      " [24 25 14  4 32]\n",
      " [17 24 34 19 16]\n",
      " [21 16 25  9 36]]\n",
      "Resta:  [[  4   2   9  -5  13]\n",
      " [  0   2  -1  -8   1]\n",
      " [ -8 -13 -14   4  -2]\n",
      " [ -5   2   4   9  14]\n",
      " [ -7   0  -5   5   0]]\n",
      "Multiplicación:  [[ 770  590  611  649  302]\n",
      " [ 897  816  750  516  504]\n",
      " [1025  737  762  683  766]\n",
      " [ 661  568  487  434  410]\n",
      " [ 860  701  670  450  689]]\n",
      "Diagonal:  (array([19,  7,  0, 14, 18]), array([15, 11,  0, 13,  7]))\n",
      "Determinante:  76157.9999999999\n"
     ]
    }
   ],
   "source": [
    "# imprima diagonal (principal y la otra)\n",
    "# saque determinante\n",
    "# suma\n",
    "# resta\n",
    "# multiplicación\n",
    "def calculadora_de_matrices_np(operation, Matrix1, Matrix2):\n",
    "    if operation == 0:\n",
    "        return (np.diag(Matrix1),np.diag(np.rot90(Matrix1)))\n",
    "    elif operation == 1:\n",
    "        return np.linalg.det(Matrix1)\n",
    "    elif operation == 2:\n",
    "        return np.add(Matrix1,Matrix2)\n",
    "    elif operation == 3:\n",
    "        return np.subtract(Matrix1,Matrix2)\n",
    "    elif operation == 4:\n",
    "        ManualResult = []\n",
    "        for i in range(len(Matrix1)):\n",
    "            ManualResult.append([])\n",
    "            for j in range(len(Matrix2[0])):\n",
    "                ManualResult[i].append(0)\n",
    "                for k in range(len(Matrix2)):\n",
    "                    ManualResult[i][j] += Matrix2[i][k] * Matrix2[k][j]\n",
    "        return np.array(ManualResult)\n",
    "\n",
    "\n",
    "Mat1 = np.random.randint(0, 20, (5, 5))\n",
    "Mat2 = np.random.randint(0, 20, (5, 5))\n",
    "print(\"Primera matriz: \")\n",
    "print(Mat1)\n",
    "print(\"Segunda matriz: \")\n",
    "print(Mat2)\n",
    "print(\"Suma: \",calculadora_de_matrices_np(2, Mat1, Mat2))\n",
    "print(\"Resta: \",calculadora_de_matrices_np(3, Mat1, Mat2))\n",
    "print(\"Multiplicación: \",calculadora_de_matrices_np(4, Mat1, Mat2))\n",
    "print(\"Diagonal: \",calculadora_de_matrices_np(0, Mat1, Mat2))\n",
    "print(\"Determinante: \",calculadora_de_matrices_np(1, Mat1, Mat2))"
   ]
  },
  {
   "cell_type": "code",
   "execution_count": 47,
   "metadata": {},
   "outputs": [
    {
     "name": "stdout",
     "output_type": "stream",
     "text": [
      "¡Bienvenido a la multiplicadora de matrices!\n",
      "Ingrese las dimensiones de su primera matriz:\n",
      "Ahora llene su primera matriz:\n",
      "Ingrese las dimensiones de su seguna matriz\n",
      "Ahora llene su segunda matriz:\n",
      "Su primera matriz: \n",
      "[[1 2]\n",
      " [3 4]]\n",
      "Su segunda matriz: \n",
      "[[5 6]\n",
      " [7 8]]\n",
      "<class 'numpy.ndarray'>\n",
      "<class 'numpy.ndarray'>\n",
      "[[ 6  8]\n",
      " [10 12]]\n",
      "Seleccione una operación: \n",
      " Para realizar una Suma ingrese 2\n",
      " Para realizar una Resta ingrese 3\n",
      " Para obtener la diagonal principal y secundaria ingrese 0\n",
      " Para realizar la multiplicación ingrese 4\n",
      " Para obtener la determinante ingrese 1\n",
      "-2.0000000000000004\n",
      "Seleccione una operación: \n",
      " Para realizar una Suma ingrese 2\n",
      " Para realizar una Resta ingrese 3\n",
      " Para obtener la diagonal principal y secundaria ingrese 0\n",
      " Para realizar la multiplicación ingrese 4\n",
      " Para obtener la determinante ingrese 1\n",
      "[[ 6  8]\n",
      " [10 12]]\n",
      "Seleccione una operación: \n",
      " Para realizar una Suma ingrese 2\n",
      " Para realizar una Resta ingrese 3\n",
      " Para obtener la diagonal principal y secundaria ingrese 0\n",
      " Para realizar la multiplicación ingrese 4\n",
      " Para obtener la determinante ingrese 1\n",
      "[[-4 -4]\n",
      " [-4 -4]]\n",
      "Seleccione una operación: \n",
      " Para realizar una Suma ingrese 2\n",
      " Para realizar una Resta ingrese 3\n",
      " Para obtener la diagonal principal y secundaria ingrese 0\n",
      " Para realizar la multiplicación ingrese 4\n",
      " Para obtener la determinante ingrese 1\n",
      "[[ 67  78]\n",
      " [ 91 106]]\n",
      "Seleccione una operación: \n",
      " Para realizar una Suma ingrese 2\n",
      " Para realizar una Resta ingrese 3\n",
      " Para obtener la diagonal principal y secundaria ingrese 0\n",
      " Para realizar la multiplicación ingrese 4\n",
      " Para obtener la determinante ingrese 1\n",
      "None\n"
     ]
    }
   ],
   "source": [
    "print(\"¡Bienvenido a la multiplicadora de matrices!\\nIngrese las dimensiones de su primera matriz:\")\n",
    "x1 = int(input(\"x: \"))\n",
    "y1 = int(input(\"y: \"))\n",
    "print(\"Ahora llene su primera matriz:\")\n",
    "Matr1 = np.array([[0 for i in range(y1)] for j in range(x1)])\n",
    "for i in range(x1):\n",
    "    for j in range(y1):\n",
    "        Matr1[i][j] = int(input(\"Ingrese un número: \"))\n",
    "print(\"Ingrese las dimensiones de su seguna matriz\")\n",
    "x2 = int(input(\"x: \"))\n",
    "y2 = int(input(\"y: \"))\n",
    "Matr2 = np.array([[0 for i in range(y2)] for j in range(x2)])\n",
    "print(\"Ahora llene su segunda matriz:\")\n",
    "for i in range(x2):\n",
    "    for j in range(y2):\n",
    "        Matr2[i][j] = int(input(\"Ingrese un número: \"))\n",
    "opcion= None\n",
    "print(\"Su primera matriz: \")\n",
    "print(Matr1)\n",
    "print(\"Su segunda matriz: \")\n",
    "print(Matr2)\n",
    "print(type(Matr1))\n",
    "print(type(Matr2))\n",
    "print(Matr1+Matr2)\n",
    "while(opcion != 5):\n",
    "    print(\"Seleccione una operación: \\n Para realizar una Suma ingrese 2\\n Para realizar una Resta ingrese 3\\n Para obtener la diagonal principal y secundaria ingrese 0\\n Para realizar la multiplicación ingrese 4\\n Para obtener la determinante ingrese 1\")\n",
    "    opcion=int(input(\"Opcion: \"))\n",
    "    print(calculadora_de_matrices_np(opcion,Matr1,Matr2))\n"
   ]
  }
 ],
 "metadata": {
  "interpreter": {
   "hash": "c8c8126ee7d09036a9be68e2d7485108a9393f31f73f6be4eb368e830a315c41"
  },
  "kernelspec": {
   "display_name": "Python 3.9.10 ('topicos': venv)",
   "language": "python",
   "name": "python3"
  },
  "language_info": {
   "codemirror_mode": {
    "name": "ipython",
    "version": 3
   },
   "file_extension": ".py",
   "mimetype": "text/x-python",
   "name": "python",
   "nbconvert_exporter": "python",
   "pygments_lexer": "ipython3",
   "version": "3.9.10"
  },
  "orig_nbformat": 4
 },
 "nbformat": 4,
 "nbformat_minor": 2
}
