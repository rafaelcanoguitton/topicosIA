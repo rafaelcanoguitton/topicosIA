{
 "cells": [
  {
   "cell_type": "markdown",
   "metadata": {},
   "source": [
    "# Práctica regresión lineal\n",
    "\n",
    "**Nombre:** Rafael Isaac Cano Guitton\n",
    "\n",
    "\n",
    "## Lectura de datos\n",
    "\n",
    "Para los experimentos se escogió un conjunto de datos que se usa como ejemplo en varios posts de Towards Data Science y notebooks de Kaggle para hacer regresión lineal simple.\n",
    "https://www.kaggle.com/code/amartyanambiar/study-hours-vs-marks/notebook.\n",
    "\n",
    "Para la siguiente implementación se usan las siguientes librerías:\n",
    "- **Numpy**\n",
    "- **Pandas**"
   ]
  },
  {
   "cell_type": "code",
   "execution_count": 141,
   "metadata": {},
   "outputs": [
    {
     "data": {
      "text/html": [
       "<div>\n",
       "<style scoped>\n",
       "    .dataframe tbody tr th:only-of-type {\n",
       "        vertical-align: middle;\n",
       "    }\n",
       "\n",
       "    .dataframe tbody tr th {\n",
       "        vertical-align: top;\n",
       "    }\n",
       "\n",
       "    .dataframe thead th {\n",
       "        text-align: right;\n",
       "    }\n",
       "</style>\n",
       "<table border=\"1\" class=\"dataframe\">\n",
       "  <thead>\n",
       "    <tr style=\"text-align: right;\">\n",
       "      <th></th>\n",
       "      <th>Hours</th>\n",
       "      <th>Scores</th>\n",
       "    </tr>\n",
       "  </thead>\n",
       "  <tbody>\n",
       "    <tr>\n",
       "      <th>0</th>\n",
       "      <td>2.5</td>\n",
       "      <td>21</td>\n",
       "    </tr>\n",
       "    <tr>\n",
       "      <th>1</th>\n",
       "      <td>5.1</td>\n",
       "      <td>47</td>\n",
       "    </tr>\n",
       "    <tr>\n",
       "      <th>2</th>\n",
       "      <td>3.2</td>\n",
       "      <td>27</td>\n",
       "    </tr>\n",
       "    <tr>\n",
       "      <th>3</th>\n",
       "      <td>8.5</td>\n",
       "      <td>75</td>\n",
       "    </tr>\n",
       "    <tr>\n",
       "      <th>4</th>\n",
       "      <td>3.5</td>\n",
       "      <td>30</td>\n",
       "    </tr>\n",
       "  </tbody>\n",
       "</table>\n",
       "</div>"
      ],
      "text/plain": [
       "   Hours  Scores\n",
       "0    2.5      21\n",
       "1    5.1      47\n",
       "2    3.2      27\n",
       "3    8.5      75\n",
       "4    3.5      30"
      ]
     },
     "execution_count": 141,
     "metadata": {},
     "output_type": "execute_result"
    }
   ],
   "source": [
    "import pandas as pd\n",
    "import numpy as np\n",
    "\n",
    "dataset = pd.read_csv(\"student_scores.csv\")\n",
    "dataset.head()"
   ]
  },
  {
   "cell_type": "markdown",
   "metadata": {},
   "source": [
    "## Normalización de los datos\n",
    "Seguidamente revisamos la distribución de nuestros datos."
   ]
  },
  {
   "cell_type": "code",
   "execution_count": 142,
   "metadata": {},
   "outputs": [
    {
     "data": {
      "text/plain": [
       "<seaborn.axisgrid.JointGrid at 0x1682ce1f0>"
      ]
     },
     "execution_count": 142,
     "metadata": {},
     "output_type": "execute_result"
    },
    {
     "data": {
      "image/png": "[encoded data removed]",
      "text/plain": [
       "<Figure size 432x432 with 3 Axes>"
      ]
     },
     "metadata": {
      "needs_background": "light"
     },
     "output_type": "display_data"
    }
   ],
   "source": [
    "import seaborn as sns\n",
    "\n",
    "sns.jointplot(data=dataset,x=dataset['Hours'],y=dataset['Scores'])"
   ]
  },
  {
   "cell_type": "markdown",
   "metadata": {},
   "source": [
    "Aplicamos normalización sobre los datos."
   ]
  },
  {
   "cell_type": "code",
   "execution_count": 143,
   "metadata": {},
   "outputs": [
    {
     "data": {
      "text/plain": [
       "<seaborn.axisgrid.JointGrid at 0x1683a6a00>"
      ]
     },
     "execution_count": 143,
     "metadata": {},
     "output_type": "execute_result"
    },
    {
     "data": {
      "image/png": "[encoded data removed]",
      "text/plain": [
       "<Figure size 432x432 with 3 Axes>"
      ]
     },
     "metadata": {
      "needs_background": "light"
     },
     "output_type": "display_data"
    }
   ],
   "source": [
    "datasetNorm = (dataset - dataset.mean())/dataset.std()\n",
    "sns.jointplot(data=datasetNorm,x=datasetNorm['Hours'],y=datasetNorm['Scores'])"
   ]
  },
  {
   "cell_type": "markdown",
   "metadata": {},
   "source": [
    "## División de los datos\n",
    "Seguidamente haremos la división de los datos con el criterio de usar el 70% para el entrenamiento y el 30% restante para la evaluación. Además también dividiremos el dataset en 30% entrenamiento y 70% evaluación para revisar el comportamiento que esto tenga. Para eso usaremos una función de la librería **sklearn**."
   ]
  },
  {
   "cell_type": "code",
   "execution_count": 144,
   "metadata": {},
   "outputs": [
    {
     "data": {
      "text/html": [
       "<div>\n",
       "<style scoped>\n",
       "    .dataframe tbody tr th:only-of-type {\n",
       "        vertical-align: middle;\n",
       "    }\n",
       "\n",
       "    .dataframe tbody tr th {\n",
       "        vertical-align: top;\n",
       "    }\n",
       "\n",
       "    .dataframe thead th {\n",
       "        text-align: right;\n",
       "    }\n",
       "</style>\n",
       "<table border=\"1\" class=\"dataframe\">\n",
       "  <thead>\n",
       "    <tr style=\"text-align: right;\">\n",
       "      <th></th>\n",
       "      <th>Hours</th>\n",
       "      <th>Scores</th>\n",
       "    </tr>\n",
       "  </thead>\n",
       "  <tbody>\n",
       "    <tr>\n",
       "      <th>10</th>\n",
       "      <td>1.064515</td>\n",
       "      <td>1.325588</td>\n",
       "    </tr>\n",
       "    <tr>\n",
       "      <th>3</th>\n",
       "      <td>1.381335</td>\n",
       "      <td>0.930126</td>\n",
       "    </tr>\n",
       "    <tr>\n",
       "      <th>21</th>\n",
       "      <td>-0.083957</td>\n",
       "      <td>0.099656</td>\n",
       "    </tr>\n",
       "    <tr>\n",
       "      <th>18</th>\n",
       "      <td>0.430875</td>\n",
       "      <td>0.613757</td>\n",
       "    </tr>\n",
       "    <tr>\n",
       "      <th>4</th>\n",
       "      <td>-0.598790</td>\n",
       "      <td>-0.849452</td>\n",
       "    </tr>\n",
       "  </tbody>\n",
       "</table>\n",
       "</div>"
      ],
      "text/plain": [
       "       Hours    Scores\n",
       "10  1.064515  1.325588\n",
       "3   1.381335  0.930126\n",
       "21 -0.083957  0.099656\n",
       "18  0.430875  0.613757\n",
       "4  -0.598790 -0.849452"
      ]
     },
     "execution_count": 144,
     "metadata": {},
     "output_type": "execute_result"
    }
   ],
   "source": [
    "from sklearn.model_selection import train_test_split\n",
    "\n",
    "train,test = train_test_split(datasetNorm,test_size=0.3)\n",
    "train2,test2 = train_test_split(datasetNorm,test_size=0.7)\n",
    "train.head()"
   ]
  },
  {
   "cell_type": "markdown",
   "metadata": {},
   "source": [
    "## Costo"
   ]
  },
  {
   "cell_type": "code",
   "execution_count": 145,
   "metadata": {},
   "outputs": [
    {
     "data": {
      "text/plain": [
       "array([ 1.32558823,  0.93012634,  0.09965639,  0.61375684, -0.84945212,\n",
       "       -0.84945212, -1.04718306,  1.36513441,  0.4160259 , -0.96809069,\n",
       "       -0.17716692,  1.44422679, -0.41444405,  0.69284922,  1.72105011,\n",
       "       -0.37489786, -0.84945212])"
      ]
     },
     "execution_count": 145,
     "metadata": {},
     "output_type": "execute_result"
    }
   ],
   "source": [
    "matrix = np.array(train.values,'float')\n",
    "x = matrix[:,0]\n",
    "y = matrix[:,1]\n",
    "y"
   ]
  },
  {
   "cell_type": "code",
   "execution_count": 146,
   "metadata": {},
   "outputs": [
    {
     "name": "stdout",
     "output_type": "stream",
     "text": [
      "7.557830556540235\n"
     ]
    }
   ],
   "source": [
    "#inicializando los parámetros\n",
    "m = np.size(y)\n",
    "x = x.reshape([m,1])\n",
    "x_aux = np.hstack([np.ones_like(x),x])\n",
    "theta = np.zeros([2,1])\n",
    "\n",
    "\n",
    "def costo(x,y,theta):\n",
    "    a = 1/(2*m)\n",
    "    b = np.sum(((x@theta)-y)**2)\n",
    "    return (a)*(b)\n",
    "print(costo(x_aux,y,theta))"
   ]
  },
  {
   "cell_type": "code",
   "execution_count": 147,
   "metadata": {},
   "outputs": [
    {
     "name": "stdout",
     "output_type": "stream",
     "text": [
      "[[0.0575114]\n",
      " [0.7018517]]\n"
     ]
    }
   ],
   "source": [
    "def gradient(x, y, theta):\n",
    "    alpha = 0.00001\n",
    "    iteration = 5000\n",
    "    J_history = np.zeros([iteration, 1]);\n",
    "    for iter in range(5000):\n",
    "        error = (x @ theta) - y\n",
    "        temp0 = theta[0] - ((alpha/m) * np.sum(error*x[:, 0]))\n",
    "        temp1 = theta[1] - ((alpha/m) * np.sum(error*x[:, 1]))\n",
    "        theta = np.array([temp0, temp1]).reshape(2, 1)\n",
    "        # compute J value for each iteration\n",
    "        J_history[iter] = (1 / (2*m)) * (np.sum(((x @ theta)-y)**2))\n",
    "    return theta, J_history\n",
    "theta , J = gradient(x_aux,y,theta)\n",
    "print(theta)"
   ]
  },
  {
   "cell_type": "code",
   "execution_count": 148,
   "metadata": {},
   "outputs": [
    {
     "name": "stdout",
     "output_type": "stream",
     "text": [
      "[[ 7.55764707]\n",
      " [ 7.55746396]\n",
      " [ 7.55728124]\n",
      " ...\n",
      " [10.71543109]\n",
      " [10.71678422]\n",
      " [10.71813761]]\n"
     ]
    }
   ],
   "source": [
    "print(J)"
   ]
  },
  {
   "cell_type": "markdown",
   "metadata": {},
   "source": [
    "## Experimento 1\n",
    "\n",
    "Calcular el error cuadrático medio y graficar."
   ]
  },
  {
   "cell_type": "code",
   "execution_count": 149,
   "metadata": {},
   "outputs": [
    {
     "data": {
      "image/png": "[encoded data removed]",
      "text/plain": [
       "<Figure size 432x288 with 1 Axes>"
      ]
     },
     "metadata": {
      "needs_background": "light"
     },
     "output_type": "display_data"
    }
   ],
   "source": [
    "import matplotlib.pyplot as plt\n",
    "#plot linear fit for our theta\n",
    "plt.plot(x,y,'bo')\n",
    "plt.plot(x,x_aux@theta,'-')\n",
    "plt.ylabel('Score')\n",
    "plt.xlabel('Hours')\n",
    "plt.legend(['Hours','LinearFit'])\n",
    "plt.title('Regresion lineal')\n",
    "plt.grid()\n",
    "plt.show()"
   ]
  },
  {
   "cell_type": "code",
   "execution_count": 150,
   "metadata": {},
   "outputs": [
    {
     "data": {
      "text/plain": [
       "array([-1.08672925, -1.20536781,  1.16740347, -1.244914  ,  0.33693352,\n",
       "        0.96967253, -1.36355257, -0.65172118])"
      ]
     },
     "execution_count": 150,
     "metadata": {},
     "output_type": "execute_result"
    }
   ],
   "source": [
    "# now we calculate the root mean square using the test set\n",
    "matrix2 = np.array(test.values,'float')\n",
    "x2 = matrix2[:,0]\n",
    "y2 = matrix2[:,1]\n",
    "y2"
   ]
  },
  {
   "cell_type": "markdown",
   "metadata": {},
   "source": [
    "Calculamos el error cuadrático medio para cada predicción."
   ]
  },
  {
   "cell_type": "code",
   "execution_count": 151,
   "metadata": {},
   "outputs": [
    {
     "name": "stdout",
     "output_type": "stream",
     "text": [
      "11.764737569174839\n"
     ]
    }
   ],
   "source": [
    "def MSE(Yp,Y):\n",
    "    tam =len(Y)\n",
    "    return np.sum((Yp - Y)**2) / tam\n",
    "\n",
    "y_predictions = []\n",
    "for _ in range(len(y2)):\n",
    "    predict1 = theta[0] + theta[1]*x2[_]\n",
    "    y_predictions.append(predict1)\n",
    "y_predictions\n",
    "print(MSE(y_predictions,y2))\n"
   ]
  },
  {
   "cell_type": "markdown",
   "metadata": {},
   "source": [
    "## Experimento 2\n",
    "\n"
   ]
  },
  {
   "cell_type": "markdown",
   "metadata": {},
   "source": [
    "## Experimento 3\n",
    "\n",
    "Invertir la división de datos, 30% entrenamiento y 70 prueba, indicar el error, realizar las gráficas y analizar la rpta con respecto al experimento 1."
   ]
  },
  {
   "cell_type": "code",
   "execution_count": 152,
   "metadata": {},
   "outputs": [
    {
     "name": "stdout",
     "output_type": "stream",
     "text": [
      "2.0814996767937948\n"
     ]
    }
   ],
   "source": [
    "matrix3 = np.array(train2.values,'float')\n",
    "x3 = matrix3[:,0]\n",
    "y3 = matrix3[:,1]\n",
    "#inicializando los parámetros\n",
    "m = np.size(y3)\n",
    "x3 = x3.reshape([m,1])\n",
    "x_aux = np.hstack([np.ones_like(x3),x3])\n",
    "theta = np.zeros([2,1])\n",
    "\n",
    "\n",
    "def costo(x,y,theta):\n",
    "    a = 1/(2*m)\n",
    "    b = np.sum(((x@theta)-y)**2)\n",
    "    return (a)*(b)\n",
    "print(costo(x_aux,y3,theta))"
   ]
  },
  {
   "cell_type": "code",
   "execution_count": 153,
   "metadata": {},
   "outputs": [
    {
     "data": {
      "image/png": "[encoded data removed]",
      "text/plain": [
       "<Figure size 432x288 with 1 Axes>"
      ]
     },
     "metadata": {
      "needs_background": "light"
     },
     "output_type": "display_data"
    }
   ],
   "source": [
    "theta2, J2 = gradient(x_aux,y3,theta)\n",
    "plt.plot(x3,y3,'bo')\n",
    "plt.plot(x3,x_aux@theta,'-')\n",
    "plt.ylabel('Score')\n",
    "plt.xlabel('Hours')\n",
    "plt.legend(['Hours','LinearFit'])\n",
    "plt.title('Regresion lineal')\n",
    "plt.grid()\n",
    "plt.show()"
   ]
  },
  {
   "cell_type": "markdown",
   "metadata": {},
   "source": [
    "## Conclusión\n",
    "\n",
    "Como hemos podido observar, la regresión lineal nos puede ayudar a predecir ciertos comportamientos lineales pero puede no ser del todo efectivo usando pocos datos como en los presentes experimentos."
   ]
  }
 ],
 "metadata": {
  "interpreter": {
   "hash": "c8c8126ee7d09036a9be68e2d7485108a9393f31f73f6be4eb368e830a315c41"
  },
  "kernelspec": {
   "display_name": "Python 3.9.12 ('topicos': venv)",
   "language": "python",
   "name": "python3"
  },
  "language_info": {
   "codemirror_mode": {
    "name": "ipython",
    "version": 3
   },
   "file_extension": ".py",
   "mimetype": "text/x-python",
   "name": "python",
   "nbconvert_exporter": "python",
   "pygments_lexer": "ipython3",
   "version": "3.9.13"
  },
  "orig_nbformat": 4
 },
 "nbformat": 4,
 "nbformat_minor": 2
}
